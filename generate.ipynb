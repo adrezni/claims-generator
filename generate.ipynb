{
 "cells": [
  {
   "cell_type": "markdown",
   "metadata": {},
   "source": []
  },
  {
   "cell_type": "code",
   "execution_count": 244,
   "metadata": {},
   "outputs": [
    {
     "data": {
      "text/html": [
       "<div>\n",
       "<style scoped>\n",
       "    .dataframe tbody tr th:only-of-type {\n",
       "        vertical-align: middle;\n",
       "    }\n",
       "\n",
       "    .dataframe tbody tr th {\n",
       "        vertical-align: top;\n",
       "    }\n",
       "\n",
       "    .dataframe thead th {\n",
       "        text-align: right;\n",
       "    }\n",
       "</style>\n",
       "<table border=\"1\" class=\"dataframe\">\n",
       "  <thead>\n",
       "    <tr style=\"text-align: right;\">\n",
       "      <th></th>\n",
       "      <th>response</th>\n",
       "      <th>issue</th>\n",
       "      <th>symptom</th>\n",
       "    </tr>\n",
       "  </thead>\n",
       "  <tbody>\n",
       "    <tr>\n",
       "      <th>0</th>\n",
       "      <td>my brakes make a noise whenever I try to stop</td>\n",
       "      <td>Brakes</td>\n",
       "      <td>Car makes grinding noise</td>\n",
       "    </tr>\n",
       "    <tr>\n",
       "      <th>1</th>\n",
       "      <td>super frustrating every time I start my car it...</td>\n",
       "      <td>Starter</td>\n",
       "      <td>Car starts then stops</td>\n",
       "    </tr>\n",
       "    <tr>\n",
       "      <th>2</th>\n",
       "      <td>I can't open the damn door to my car</td>\n",
       "      <td>Other</td>\n",
       "      <td></td>\n",
       "    </tr>\n",
       "    <tr>\n",
       "      <th>3</th>\n",
       "      <td>I turn the key and nothing happens</td>\n",
       "      <td>Starter</td>\n",
       "      <td>Car doesn't start</td>\n",
       "    </tr>\n",
       "    <tr>\n",
       "      <th>4</th>\n",
       "      <td>Car doesn't always start when it's low on blin...</td>\n",
       "      <td>Starter</td>\n",
       "      <td>Car doesn't start</td>\n",
       "    </tr>\n",
       "    <tr>\n",
       "      <th>...</th>\n",
       "      <td>...</td>\n",
       "      <td>...</td>\n",
       "      <td>...</td>\n",
       "    </tr>\n",
       "    <tr>\n",
       "      <th>104</th>\n",
       "      <td>my breaks are faulty.</td>\n",
       "      <td>Brakes</td>\n",
       "      <td>Car brakes, but then brakes disengage</td>\n",
       "    </tr>\n",
       "    <tr>\n",
       "      <th>105</th>\n",
       "      <td>my lights do not work</td>\n",
       "      <td>Other</td>\n",
       "      <td></td>\n",
       "    </tr>\n",
       "    <tr>\n",
       "      <th>106</th>\n",
       "      <td>I try to start the engine only to find that th...</td>\n",
       "      <td>Starter</td>\n",
       "      <td>Car doesn't start</td>\n",
       "    </tr>\n",
       "    <tr>\n",
       "      <th>107</th>\n",
       "      <td>The driver side window auto function does not ...</td>\n",
       "      <td>Other</td>\n",
       "      <td></td>\n",
       "    </tr>\n",
       "    <tr>\n",
       "      <th>108</th>\n",
       "      <td>Sometimes when I press the brake, the car does...</td>\n",
       "      <td>Brakes</td>\n",
       "      <td>Car doesn't stop in timely manner</td>\n",
       "    </tr>\n",
       "  </tbody>\n",
       "</table>\n",
       "<p>109 rows × 3 columns</p>\n",
       "</div>"
      ],
      "text/plain": [
       "                                              response    issue  \\\n",
       "0        my brakes make a noise whenever I try to stop   Brakes   \n",
       "1    super frustrating every time I start my car it...  Starter   \n",
       "2                 I can't open the damn door to my car    Other   \n",
       "3                   I turn the key and nothing happens  Starter   \n",
       "4    Car doesn't always start when it's low on blin...  Starter   \n",
       "..                                                 ...      ...   \n",
       "104                              my breaks are faulty.   Brakes   \n",
       "105                              my lights do not work    Other   \n",
       "106  I try to start the engine only to find that th...  Starter   \n",
       "107  The driver side window auto function does not ...    Other   \n",
       "108  Sometimes when I press the brake, the car does...   Brakes   \n",
       "\n",
       "                                   symptom  \n",
       "0                 Car makes grinding noise  \n",
       "1                    Car starts then stops  \n",
       "2                                           \n",
       "3                        Car doesn't start  \n",
       "4                        Car doesn't start  \n",
       "..                                     ...  \n",
       "104  Car brakes, but then brakes disengage  \n",
       "105                                         \n",
       "106                      Car doesn't start  \n",
       "107                                         \n",
       "108      Car doesn't stop in timely manner  \n",
       "\n",
       "[109 rows x 3 columns]"
      ]
     },
     "execution_count": 244,
     "metadata": {},
     "output_type": "execute_result"
    }
   ],
   "source": [
    "import pandas as pd\n",
    "\n",
    "df = pd.read_csv('response.csv') \n",
    "df = df.fillna('')\n",
    "df['response']=df.iloc[:,3]+df.iloc[:,5]+df.iloc[:,6]\n",
    "df['issue'] = df.iloc[:,1]\n",
    "df['symptom'] = df.iloc[:,2] + df.iloc[:,4]\n",
    "subset = df.iloc[:,-3:]\n",
    "subset"
   ]
  },
  {
   "cell_type": "code",
   "execution_count": 245,
   "metadata": {},
   "outputs": [],
   "source": [
    "import markovify\n",
    "import codecs"
   ]
  },
  {
   "cell_type": "code",
   "execution_count": 246,
   "metadata": {},
   "outputs": [],
   "source": [
    "def train_markov_type(data, issue):\n",
    "    return markovify.Text(data[data[\"issue\"] == issue].response, retain_original=False, state_size=2)\n",
    "\n",
    "def make_sentence(model, length=200):\n",
    "    return model.make_short_sentence(length, max_overlap_ratio = .7, max_overlap_total=15)\n",
    "\n",
    "other_model = train_markov_type(subset, \"Other\")\n",
    "brakes_model = train_markov_type(subset, \"Brakes\")\n",
    "starter_model = train_markov_type(subset, \"Starter\")"
   ]
  },
  {
   "cell_type": "code",
   "execution_count": 247,
   "metadata": {},
   "outputs": [
    {
     "data": {
      "text/plain": [
       "'Fuel economy has gotten very bad.'"
      ]
     },
     "execution_count": 247,
     "metadata": {},
     "output_type": "execute_result"
    }
   ],
   "source": [
    "make_sentence(other_model)"
   ]
  },
  {
   "cell_type": "code",
   "execution_count": 248,
   "metadata": {},
   "outputs": [
    {
     "data": {
      "text/plain": [
       "'It stops if I push it really far, but I have to brake again.'"
      ]
     },
     "execution_count": 248,
     "metadata": {},
     "output_type": "execute_result"
    }
   ],
   "source": [
    "make_sentence(brakes_model)"
   ]
  },
  {
   "cell_type": "code",
   "execution_count": 249,
   "metadata": {},
   "outputs": [
    {
     "data": {
      "text/plain": [
       "'Alternator is faulty'"
      ]
     },
     "execution_count": 249,
     "metadata": {},
     "output_type": "execute_result"
    }
   ],
   "source": [
    "make_sentence(starter_model)"
   ]
  },
  {
   "cell_type": "markdown",
   "metadata": {},
   "source": [
    "We can combine these models with relative weights"
   ]
  },
  {
   "cell_type": "code",
   "execution_count": 250,
   "metadata": {},
   "outputs": [],
   "source": [
    "compound_model = markovify.combine([other_model, brakes_model, starter_model], [14, 7, 7])"
   ]
  },
  {
   "cell_type": "code",
   "execution_count": 251,
   "metadata": {},
   "outputs": [
    {
     "name": "stdout",
     "output_type": "stream",
     "text": [
      "Car doesn't always start when it's low on blinker fluid\n",
      "If I knew what the problem was, I wouldn't be on some website, I'd be fixing it!!\n",
      "I have the button pushed in and the fan is running full blast.\n",
      "I can't open the damn door to my car is now a pile of ashes.\n",
      "Just that odd clicking noise....\n",
      "Steering wheel shakes uncontrollably when I accelerate above 60 mph\n",
      "I'm having an issue with fuel injection sensor or pressure.\n",
      "Shuttering when accelerating\n",
      "The seat belt itself on the the fourth time.\n",
      "my brakes make a noise whenever I try to set it at anything other than MAX COOL, it defaults to full blast heat or full blast cooling.\n",
      "I'm having an issue with fuel injection sensor or pressure.\n",
      "I was working on the menu to return to my car it just stops again, what is wrong!\n",
      "But the car evaluated.\n",
      "The driver side window auto function does not happen at very high speeds, but generally tolerable at or above 80.\n",
      "sometimes, it won't turn on, but it takes more force to stop\n",
      "My car is wrecking perfectly good batteries that should be lasting years.\n",
      "It won't go, but it kind of won't stop either.\n",
      "Maybe the brakes disengage.\n",
      "my breaks are faulty.\n",
      "My window won't roll up.\n"
     ]
    }
   ],
   "source": [
    "for i in range(20):\n",
    "    print(make_sentence(compound_model))"
   ]
  },
  {
   "cell_type": "code",
   "execution_count": 252,
   "metadata": {},
   "outputs": [],
   "source": [
    "import numpy\n",
    "def generate_cases(models, weights=None):\n",
    "    if weights is None:\n",
    "        weights = [1] * len(models)\n",
    "    \n",
    "    choices = []\n",
    "    \n",
    "    total_weight = float(sum(weights))\n",
    "    \n",
    "    for i in range(len(weights)):\n",
    "        choices.append((float(sum(weights[0:i+1])) / total_weight, models[i]))\n",
    "    \n",
    "    def choose_model():\n",
    "        r = numpy.random.uniform()\n",
    "        for (p, m) in choices:\n",
    "            if r <= p:\n",
    "                return m\n",
    "        return choices[-1][1]\n",
    "\n",
    "\n",
    "    def choose_from(c):\n",
    "        idx = math.floor(numpy.random.uniform() * len(c))\n",
    "        return c[idx]\n",
    "    \n",
    "    \n",
    "    while True:\n",
    "        yield (make_sentence(choose_model()))\n",
    "            "
   ]
  },
  {
   "cell_type": "code",
   "execution_count": 253,
   "metadata": {},
   "outputs": [],
   "source": [
    "t = generate_cases([other_model, brakes_model, starter_model], [3,4,4])"
   ]
  },
  {
   "cell_type": "code",
   "execution_count": 254,
   "metadata": {
    "scrolled": true
   },
   "outputs": [
    {
     "data": {
      "text/plain": [
       "['It sputters for a few seconds and then nothing happens.',\n",
       " 'When I put the car evaluated.',\n",
       " 'My car does not turn over',\n",
       " \"Car makes a lot noise and doesn't fully stop when we hit the break.\",\n",
       " \"Sometimes the car doesn't start and it seems like the battery is dead, but I have to press the ignition three times before the car would make a click click clicking sound - maybe a dead battery?\",\n",
       " 'When I try to start it.',\n",
       " 'When I tried to drive, the car does not stop',\n",
       " 'It takes a long time before finally engaging and actually turning on.',\n",
       " 'I have to press the ignition button at least twice before my car it just stops again, what is wrong!',\n",
       " \"It's rather a periodic deep sound when breaking.\",\n",
       " 'When I try to start the engine doesn’t power up',\n",
       " 'Leak of a clear, cloudy, oil like substance in the car.',\n",
       " 'The windshield has a lot of black smoke and acrid smell.',\n",
       " \"Brakes might be getting old because car doesn't seem to stop as quickly as it used to\",\n",
       " 'If I pump the brake pedal',\n",
       " \"I'm having an issue with fuel injection sensor or pressure.\",\n",
       " 'With that, highway driving is very dangerous',\n",
       " \"Where's the place, where I need to insert my key to start the engine doesn’t power up\",\n",
       " 'my breaks are faulty.',\n",
       " 'Alternator is faulty',\n",
       " 'I have a keyless start system and when I step on the the fourth time.',\n",
       " \"There is a light that came on that looks to be working ok, but that sound wasn't there when I open my rear trunk\",\n",
       " \"I can't open the damn door to my car\",\n",
       " \"Car makes a lot noise and doesn't fully stop when we hit the break.\",\n",
       " \"I don't know what more you want from me, I get into the car, turn the wheel.\",\n",
       " 'Car does not turn over.',\n",
       " 'Squealing sound',\n",
       " 'If I pump the brake pedal all the way to the car refuses to stop',\n",
       " \"It won't go, but it won't go up at all!\",\n",
       " 'Maybe the brakes a bit of rumbling to the brake pedal',\n",
       " 'It makes a sputtering noise and does not turn over',\n",
       " 'The car pulls to the left.',\n",
       " 'Please help ASAP!',\n",
       " 'brake pads are not wearing down evenly',\n",
       " 'I keep my foot firmly pressing down on the brake and the car refuses to stop as quickly as it used to',\n",
       " \"I'm not sure if it is the battery three times over the past year, so I think maybe either I'm buying defective batteries or something about the car to turn over.\",\n",
       " \"The seat belt itself on the side of the vents doesn't feel any colder than the outside air.\",\n",
       " \"It's really bad at lower speeds, but generally tolerable at or above 80.\",\n",
       " \"It sputters for a few seconds and then won't start again.\",\n",
       " 'Alternator is faulty',\n",
       " 'I press on the brake pedal',\n",
       " \"Brakes might be getting old because car doesn't respond immediately.\",\n",
       " 'The steering wheel shudders and I hear a grinding noise as I drive.',\n",
       " 'I can hear the starter firing but the engine unless you hit the starter firing but the car starts on the the fourth time.',\n",
       " \"Starter makes clicking noise, won't start again.\",\n",
       " \"It won't start and it seems like the battery three times before the car doesnt start.\",\n",
       " 'Car creates whistle sound each time I start my car but it definitely was not starting.',\n",
       " 'When I try to start the engine only to find that the dashboard lights up, but the engine unless you hit the starter with a hammer.',\n",
       " 'When turning, the car does not roll back up.',\n",
       " \"That's really distrubing and dangerous!\",\n",
       " 'I try to start the engine doesn’t power up',\n",
       " 'It stops if I push it really far, but I have to press the brakes a bit harder than I normally would.',\n",
       " 'If I pump the brake pedal all the way to the floor, and the car and a weird noise when stopping.',\n",
       " 'I turn the key and hear funny sounds but nothing happens.',\n",
       " 'It sputters for a while and never turns over.',\n",
       " 'I turn the key and nothing happens',\n",
       " \"The HVAC system is broken in the car. t only has two modes -- full blast heat even if the door won't open.\",\n",
       " 'The brake squeak and any time the slightest pressure is applied to the car comes to a stop at a stop at a stop light, I press down on the brake pedal',\n",
       " \"It's rather a periodic deep sound when breaking.\",\n",
       " 'A/C is working, but is not blowing out cold air',\n",
       " 'When I try to start the car, it spits and sputters for a while and never turns over.',\n",
       " 'https://www.youtube.com/watch?v=bEME9licodY',\n",
       " 'My car drifts when driving it and my tires seem to be wearing down at different rates.',\n",
       " \"Car makes a lot noise and doesn't fully stop when we hit the break.\",\n",
       " 'When I try to start the engine unless you hit the starter with a hammer.',\n",
       " \"Car doesn't always start when it's low on blinker fluid\",\n",
       " 'super frustrating every time I try to start the engine doesn’t power up',\n",
       " 'My cars breaks make noises and also take more time to stop.',\n",
       " \"But the car won't shift out of park.\",\n",
       " 'The HVAC system is broken in the front.',\n",
       " 'Plus it seems it takes more force to stop as quickly as it used to',\n",
       " \"Car makes a lot noise and doesn't fully stop when we hit the break.\",\n",
       " 'When coming to a stop light, I press down on the brake pedal',\n",
       " 'Maybe the brakes of my car.',\n",
       " \"When I'm taking a left turn, the steering wheel shakes when running at speed\",\n",
       " '68F',\n",
       " 'super frustrating every time I try to start it.',\n",
       " \"I can't drive that way, always these bullshitty new technologies...\",\n",
       " 'Car does not turn over',\n",
       " 'It is more squealing or screeching sounds than grinding.',\n",
       " 'You must act immediately!',\n",
       " \"It's rather a periodic deep sound when breaking.\",\n",
       " 'I turn the key in it makes a sputtering noise and does not start.',\n",
       " \"I can't drive that way, always these bullshitty new technologies...\",\n",
       " 'This generally does not happen at very high speeds, but rather at speeds of around 30-40 mph.',\n",
       " 'Shuttering when accelerating',\n",
       " 'I try to start it.',\n",
       " 'Cannot get the car doesnt start.',\n",
       " 'The pedal feels squishy.',\n",
       " 'Car makes a squeeky noise when I push hard on the brake and the car made horrible grinding noises.',\n",
       " 'Car creates whistle sound each time I start my car it just stops again, what is wrong!',\n",
       " 'Steering wheel shakes when running at speed',\n",
       " 'Just that odd clicking noise....',\n",
       " \"I can't drive that way, always these bullshitty new technologies...\",\n",
       " 'Fuel economy has gotten very bad.',\n",
       " \"Car doesn't always start when it's low on blinker fluid\",\n",
       " 'I have the button pushed in and the batteries just keep dying after about a week.',\n",
       " 'Cannot get the car would not start.',\n",
       " 'It makes a weird whirring sound every time I try to start it.',\n",
       " 'Car creates whistle sound each time I start it']"
      ]
     },
     "execution_count": 254,
     "metadata": {},
     "output_type": "execute_result"
    }
   ],
   "source": [
    "[next(t) for i in range(100)]"
   ]
  },
  {
   "cell_type": "markdown",
   "metadata": {},
   "source": [
    "Checking for similarity (slow)"
   ]
  },
  {
   "cell_type": "code",
   "execution_count": 255,
   "metadata": {},
   "outputs": [
    {
     "name": "stderr",
     "output_type": "stream",
     "text": [
      "<ipython-input-255-42ca54a62509>:14: UserWarning: [W007] The model you're using has no word vectors loaded, so the result of the Doc.similarity method will be based on the tagger, parser and NER, which may not give useful similarity judgements. This may happen if you're using one of the small models, e.g. `en_core_web_sm`, which don't ship with word vectors and only use context-sensitive tensors. You can always add your own word vectors, or use one of the larger models instead if available.\n",
      "  if m < doc.similarity(doc1):\n",
      "<ipython-input-255-42ca54a62509>:15: UserWarning: [W007] The model you're using has no word vectors loaded, so the result of the Doc.similarity method will be based on the tagger, parser and NER, which may not give useful similarity judgements. This may happen if you're using one of the small models, e.g. `en_core_web_sm`, which don't ship with word vectors and only use context-sensitive tensors. You can always add your own word vectors, or use one of the larger models instead if available.\n",
      "  m = doc.similarity(doc1)\n",
      "<ipython-input-255-42ca54a62509>:14: UserWarning: [W008] Evaluating Doc.similarity based on empty vectors.\n",
      "  if m < doc.similarity(doc1):\n"
     ]
    },
    {
     "name": "stdout",
     "output_type": "stream",
     "text": [
      "Mean similarity: 0.7900352396541175\n"
     ]
    },
    {
     "data": {
      "text/plain": [
       "<seaborn.axisgrid.FacetGrid at 0x133e69370>"
      ]
     },
     "execution_count": 255,
     "metadata": {},
     "output_type": "execute_result"
    },
    {
     "data": {
      "image/png": "[encoded data removed]",
      "text/plain": [
       "<Figure size 360x360 with 1 Axes>"
      ]
     },
     "metadata": {
      "needs_background": "light"
     },
     "output_type": "display_data"
    }
   ],
   "source": [
    "import spacy\n",
    "nlp = spacy.load('en_core_web_sm')\n",
    "\n",
    "dt_b = subset[\"response\"]\n",
    "dt_a = [next(t) for i in range(100)]\n",
    "\n",
    "import numpy as np\n",
    "a = []\n",
    "for sentence in dt_a:\n",
    "    doc = nlp(sentence)\n",
    "    m = 0\n",
    "    for sentence1 in dt_b:\n",
    "        doc1 = nlp(sentence1)\n",
    "        if m < doc.similarity(doc1):\n",
    "            m = doc.similarity(doc1)\n",
    "    a.append(m)\n",
    "        \n",
    "print(\"Mean similarity: \" + str(np.array(a).mean()))\n",
    "\n",
    "import seaborn as sns\n",
    "sns.displot(a)"
   ]
  },
  {
   "cell_type": "code",
   "execution_count": 256,
   "metadata": {},
   "outputs": [],
   "source": [
    "import cProfile\n",
    "\n",
    "def timing(c):\n",
    "    for _ in range(c):\n",
    "        next(t)\n",
    "\n",
    "cProfile.run('timing(2000)', 'generatestats')"
   ]
  },
  {
   "cell_type": "code",
   "execution_count": 257,
   "metadata": {},
   "outputs": [
    {
     "name": "stdout",
     "output_type": "stream",
     "text": [
      "Tue Mar  9 11:33:38 2021    generatestats\n",
      "\n",
      "         303366 function calls (278038 primitive calls) in 0.158 seconds\n",
      "\n",
      "   Ordered by: standard name\n",
      "\n",
      "   ncalls  tottime  percall  cumtime  percall filename:lineno(function)\n",
      "     2000    0.002    0.000    0.146    0.000 <ipython-input-246-3e3ab942a540>:4(make_sentence)\n",
      "     2000    0.002    0.000    0.009    0.000 <ipython-input-252-5f1382f3447f>:13(choose_model)\n",
      "     2000    0.001    0.000    0.157    0.000 <ipython-input-252-5f1382f3447f>:2(generate_cases)\n",
      "        1    0.001    0.001    0.158    0.158 <ipython-input-256-801ca619797e>:3(timing)\n",
      "        1    0.000    0.000    0.158    0.158 <string>:1(<module>)\n",
      "    64057    0.017    0.000    0.024    0.000 chain.py:10(accumulate)\n",
      "    27366    0.019    0.000    0.125    0.000 chain.py:112(gen)\n",
      "     2038    0.005    0.000    0.130    0.000 chain.py:125(walk)\n",
      "    27366    0.069    0.000    0.106    0.000 chain.py:96(move)\n",
      "     2038    0.001    0.000    0.002    0.000 text.py:120(word_join)\n",
      "     2038    0.006    0.000    0.139    0.000 text.py:175(make_sentence)\n",
      "     2000    0.005    0.000    0.145    0.000 text.py:221(make_short_sentence)\n",
      "    27366    0.006    0.000    0.006    0.000 {built-in method _bisect.bisect_right}\n",
      "    13401    0.002    0.000    0.002    0.000 {built-in method _operator.add}\n",
      "        1    0.000    0.000    0.158    0.158 {built-in method builtins.exec}\n",
      "     2038    0.000    0.000    0.000    0.000 {built-in method builtins.hasattr}\n",
      "    25328    0.003    0.000    0.003    0.000 {built-in method builtins.iter}\n",
      "     4038    0.000    0.000    0.000    0.000 {built-in method builtins.len}\n",
      "27328/2000    0.003    0.000    0.158    0.000 {built-in method builtins.next}\n",
      "        1    0.000    0.000    0.000    0.000 {method 'disable' of '_lsprof.Profiler' objects}\n",
      "    14228    0.002    0.000    0.002    0.000 {method 'get' of 'dict' objects}\n",
      "    25328    0.003    0.000    0.003    0.000 {method 'items' of 'dict' objects}\n",
      "     2038    0.001    0.000    0.001    0.000 {method 'join' of 'str' objects}\n",
      "    27366    0.004    0.000    0.004    0.000 {method 'random' of '_random.Random' objects}\n",
      "     2000    0.007    0.000    0.007    0.000 {method 'uniform' of 'numpy.random.mtrand.RandomState' objects}\n",
      "\n",
      "\n"
     ]
    },
    {
     "data": {
      "text/plain": [
       "<pstats.Stats at 0x1322e3190>"
      ]
     },
     "execution_count": 257,
     "metadata": {},
     "output_type": "execute_result"
    }
   ],
   "source": [
    "import pstats\n",
    "p = pstats.Stats('generatestats')\n",
    "p.strip_dirs().sort_stats(-1).print_stats()"
   ]
  }
 ],
 "metadata": {
  "kernelspec": {
   "display_name": "Python 3",
   "language": "python",
   "name": "python3"
  },
  "language_info": {
   "codemirror_mode": {
    "name": "ipython",
    "version": 3
   },
   "file_extension": ".py",
   "mimetype": "text/x-python",
   "name": "python",
   "nbconvert_exporter": "python",
   "pygments_lexer": "ipython3",
   "version": "3.6.8"
  }
 },
 "nbformat": 4,
 "nbformat_minor": 4
}
